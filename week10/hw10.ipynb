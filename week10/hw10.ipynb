{
 "cells": [
  {
   "cell_type": "markdown",
   "metadata": {},
   "source": [
    "\n",
    "# CIS024C - Spring 2018 - Monday 5:30-9:25pm \n",
    "\n",
    "## Homework 10\n",
    "\n",
    "Homework 10 covers object oriented programming in Python\n",
    "\n",
    "The below sites have some interesting and useful information on working with files\n",
    "\n",
    "https://drive.google.com/open?id=1OrcpXEmhvgcJxSlchIBsvmXST0lG_uKx\n",
    "http://www.tutorialspoint.com/python/python_classes_objects.htm\n",
    "\n",
    "You will need to download this notebook and use this as a starting point for your homework. You will just need to fill in the content of each code-block (cell) and execute. Once you have completed all the exercises, you will need to save and upload this to your github repository under a folder called hw10.\n",
    "\n",
    "Note also the exercises build on top of one another so you might be able to do the next exercise if you have not completed the previous exercise.\n",
    "\n",
    "Post any questions you have on our Slack at **cis-024c1.slack.com**\n",
    "\n",
    "** Slides ** for Week 10 can be found at \n",
    "\n",
    "https://docs.google.com/presentation/d/1AigvCKV1yb3PrrcT5xt3IqyAwGpv6IKMNWYUiQ2Oy6k/edit?usp=sharing\n",
    "\n",
    "**Please refer back to hw1 and slack for instructions on how to setup your computer for developing using Python.**"
   ]
  },
  {
   "cell_type": "markdown",
   "metadata": {},
   "source": [
    "### Helpful Jupyter Commands\n",
    "\n",
    "Below are some useful commands to know when using Jupyter\n",
    "\n",
    "1. You can add a new cell by clicking on the \"+\" icon on top.\n",
    "2. You can delete a cell by selecting that cell and clicking on the \"scissors\" icon on top.\n",
    "3. You can execute a cell by either pressing shift+enter or selecting the \"play\" button on top.\n",
    "4. You can create a new file in Jupyter via the File menu->New Notebook option. Make sure to select Python 2 when creating your notebook.\n",
    "5. Also, for your code blocks make sure that Code is selected instead of another option like Markdown.\n",
    "6. Use the Enter key to go to the next line in a cell to enter the next statement.\n",
    "7. You can clear results by clicking on the Cell menu item and selecting Current Output->Clear or All Output->Clear depending on whether you are trying to just clear the output for one cell or for all cells.\n",
    "8. In case your program has crashed for some reason (infinite loop, for example), you can restart your Python session by select Kernel in the menu and selecting Restart.\n"
   ]
  },
  {
   "cell_type": "markdown",
   "metadata": {},
   "source": [
    "#### Check Python Version"
   ]
  },
  {
   "cell_type": "code",
   "execution_count": 1,
   "metadata": {},
   "outputs": [
    {
     "name": "stderr",
     "output_type": "stream",
     "text": [
      "Python 2.7.14 :: Anaconda, Inc.\n"
     ]
    }
   ],
   "source": [
    "!python --version"
   ]
  },
  {
   "cell_type": "markdown",
   "metadata": {},
   "source": [
    "#### Sample Exercises with Exception Handling\n",
    "\n",
    "Week 10 Class Work can be found here\n",
    "\n",
    "https://github.com/cis024c/spring2018classwork/blob/master/week10/classwork_04162018.ipynb"
   ]
  },
  {
   "cell_type": "markdown",
   "metadata": {},
   "source": [
    "**Exercise 1 - Testing your knowledge of object oriented programming concepts **\n",
    "\n",
    "Answer the below questions\n",
    "\n",
    "1. Why do we need classes?\n",
    "2. What is encapsulation?"
   ]
  },
  {
   "cell_type": "markdown",
   "metadata": {},
   "source": [
    "1. We need classes to create profiles or file that contain information about people or other things that we can call out anytime in the code like age or salary\n",
    "2. It is a mechanism of restricting acess to components of an object."
   ]
  },
  {
   "cell_type": "markdown",
   "metadata": {},
   "source": [
    "** Exercise 2 - Class creation **\n",
    "\n",
    "Create a Python class named **Employee** with the following attributes and methods\n",
    "\n",
    "Data members\n",
    "```\n",
    "1. employeeName  - type string\n",
    "2. employeeAge  - type int\n",
    "3. employeeSalary - type float\n",
    "```\n",
    "\n",
    "Methods:\n",
    "```\n",
    "1. getEmployee - returns employee name\n",
    "2. getEmployeeAge - gets the employee age\n",
    "3. getEmployeeSalary - returns the employee salary\n",
    "4. __init__ - initialize method accepts the name, age and salary of the employee\n",
    "```\n",
    "\n",
    "Create an object of type Employee and initialize with arbitrary values. Invoke the get methods and display the result."
   ]
  },
  {
   "cell_type": "code",
   "execution_count": 65,
   "metadata": {},
   "outputs": [
    {
     "name": "stdout",
     "output_type": "stream",
     "text": [
      "('Name:', 'Bob')\n",
      "('Age: ', 45)\n",
      "('Salary: ', 50000)\n"
     ]
    }
   ],
   "source": [
    "### YOUR CODE GOES BELOW\n",
    "class Employee:\n",
    "    def __init__(self,employeeName,employeeAge,employeeSalary):\n",
    "        self.employeeName = employeeName\n",
    "        self.employeeAge = employeeAge\n",
    "        self.employeeSalary = employeeSalary\n",
    "    def getEmployee(self):\n",
    "        return self.employeeName\n",
    "    def getEmployeeAge(self):\n",
    "        return self.employeeAge\n",
    "    def getEmployeeSalary(self):\n",
    "        return self.employeeSalary\n",
    "    \n",
    "emp_1 = Employee(\"Bob\", 45,50000)\n",
    "print(\"Name:\",emp_1.getEmployee())\n",
    "print (\"Age: \",emp_1.getEmployeeAge())\n",
    "print (\"Salary: \",emp_1.getEmployeeSalary())\n",
    "### END CODE"
   ]
  },
  {
   "cell_type": "markdown",
   "metadata": {},
   "source": [
    "#### Exercise 3 - Private members\n",
    "\n",
    "In the above **Employee** class make the employeeName, employeeAge and employeeSalary private so that their access is restricted to only within the class."
   ]
  },
  {
   "cell_type": "code",
   "execution_count": 68,
   "metadata": {},
   "outputs": [
    {
     "name": "stdout",
     "output_type": "stream",
     "text": [
      "('Name:', 'Bob')\n",
      "('Age :', 45)\n",
      "('Salary:', 50000)\n"
     ]
    }
   ],
   "source": [
    "### YOUR CODE GOES BELOW\n",
    "class Employee:\n",
    "    def __init__(self,employeeName,employeeAge,employeeSalary):\n",
    "        self.__employeeName = employeeName\n",
    "        self.__employeeAge = employeeAge\n",
    "        self.__employeeSalary = employeeSalary\n",
    "    def getEmployee(self):\n",
    "        return self.__employeeName\n",
    "    def getEmployeeAge(self):\n",
    "        return self.__employeeAge\n",
    "    def getEmployeeSalary(self):\n",
    "        return self.__employeeSalary \n",
    "    def displayInfo(self): #method created to show acess to private attributes, shown as 2 underscores\n",
    "        print(\"Name:\",self.getEmployee())\n",
    "        print(\"Age :\",self.getEmployeeAge())\n",
    "        print(\"Salary:\",self.getEmployeeSalary())\n",
    "        \n",
    "        \n",
    "    \n",
    "emp_1 = Employee(\"Bob\", 45,50000)\n",
    "emp_1.displayInfo()\n",
    "### END CODE"
   ]
  },
  {
   "cell_type": "markdown",
   "metadata": {},
   "source": [
    "#### Exercise 4 - Adding setters and working with a list of Employees\n",
    "\n",
    "In the **Employee** class add the following methods\n",
    "\n",
    "```\n",
    "1. setEmployeeAge - accepts age and sets it in the object\n",
    "2. setEmployeeName - accepts employee name and sets it in the object\n",
    "3. setEmployeeSalary - accepts employee salary and sets it i nthe object\n",
    "```\n",
    "\n",
    "Create a list of employees called employeeList. Initialize the list with three objects of type Employee. Initialize the object with the values \"None\" for employeeName, 0 for employeeAge and 0 for employeeSalary.\n",
    "\n",
    "Loop  through each employee in the employeeList. Each time, request the user to enter the name, age and salary of a different employee. Use the set methods to set the name, age and salary for each employee in the employeeList.\n",
    "\n",
    "Loop through each employee in the employeeList. Display the name, age and salary of each employee."
   ]
  },
  {
   "cell_type": "raw",
   "metadata": {},
   "source": []
  },
  {
   "cell_type": "code",
   "execution_count": 70,
   "metadata": {},
   "outputs": [
    {
     "name": "stdout",
     "output_type": "stream",
     "text": [
      "Please enter the employee's name: Bob\n",
      "Please enter the employee's age: 65\n",
      "please enter the employee's salary: 74993\n",
      "Please enter the employee's name: Maria\n",
      "Please enter the employee's age: 85\n",
      "please enter the employee's salary: 88439\n",
      "Please enter the employee's name: Jack\n",
      "Please enter the employee's age: 47\n",
      "please enter the employee's salary: 483047\n",
      "('Name: ', 'Bob')\n",
      "('Age: ', 65)\n",
      "('Salary: ', 74993.0)\n",
      "('Name: ', 'Maria')\n",
      "('Age: ', 85)\n",
      "('Salary: ', 88439.0)\n",
      "('Name: ', 'Jack')\n",
      "('Age: ', 47)\n",
      "('Salary: ', 483047.0)\n"
     ]
    }
   ],
   "source": [
    "### YOUR CODE GOES BELOW\n",
    "class Employee:\n",
    "    def __init__(self,employeeName,employeeAge,employeeSalary):\n",
    "        self.employeeName = employeeName\n",
    "        self.employeeAge = employeeAge\n",
    "        self.employeeSalary = employeeSalary\n",
    "        \n",
    "    def setEmployee(self,employeeName):\n",
    "        self.employeeName = employeeName    \n",
    "        \n",
    "    def setEmployeeAge(self,employeeAge):\n",
    "        self.employeeAge = employeeAge\n",
    "        \n",
    "    def setEmployeeSalary(self,employeeSalary):\n",
    "        self.employeeSalary = employeeSalary\n",
    "        \n",
    "    def getEmployee(self):\n",
    "        return self.employeeName\n",
    "    \n",
    "    def getEmployeeAge(self):\n",
    "        return self.employeeAge\n",
    "    \n",
    "    def getEmployeeSalary(self):\n",
    "        return self.employeeSalary \n",
    "    \n",
    "    def displayInfo(self): \n",
    "        print(\"Name:\",self.getEmployee())\n",
    "        print(\"Age :\",self.getEmployeeAge())\n",
    "        print(\"Salary:\",self.getEmployeeSalary())\n",
    "\n",
    "emp1 = Employee(\"None\",0,0)\n",
    "emp2 = Employee(\"None\",0,0)\n",
    "emp3 = Employee(\"None\",0,0)\n",
    "employeeList = [emp1,emp2,emp3]\n",
    "\n",
    "\n",
    "for employee in employeeList:\n",
    "    employee.setEmployee(raw_input(\"Please enter the employee's name: \"))\n",
    "    employee.setEmployeeAge(int(raw_input(\"Please enter the employee's age: \")))\n",
    "    employee.setEmployeeSalary(float(raw_input(\"please enter the employee's salary: \")))\n",
    "    \n",
    "for employee in employeeList:\n",
    "    print (\"Name: \",employee.getEmployee())\n",
    "    print (\"Age: \",employee.getEmployeeAge())\n",
    "    print (\"Salary: \",employee.getEmployeeSalary())\n",
    "### END CODE"
   ]
  },
  {
   "cell_type": "markdown",
   "metadata": {},
   "source": [
    "##### Exercise 5 -  Creating a Python calculator class\n",
    "\n",
    "Create a Python class called Calculator. \n",
    "\n",
    "```\n",
    "1. number1 - type float\n",
    "2. number2 - type float\n",
    "```\n",
    "\n",
    "The class must have the below methods\n",
    "\n",
    "```\n",
    "1. add - adds two numbers and returns the result\n",
    "2. subtract - subtracts the first number from the second number and returns the result\n",
    "3. multiply - multiply two numbers and returns the result\n",
    "4. divide - divide the first number by the second number and returns the result\n",
    "5. __init__ - accepts two numbers and uses those numbers to initialize number1 and number2 respectively\n",
    "```\n",
    "\n",
    "Create an object of the Calculator class. Initialize it with any two arbitrary numbers. Invoke the methods add, subtract, multiple and divide and display the result\n",
    "\n",
    "\n",
    "\n",
    "\n"
   ]
  },
  {
   "cell_type": "code",
   "execution_count": 3,
   "metadata": {},
   "outputs": [
    {
     "name": "stdout",
     "output_type": "stream",
     "text": [
      "Enter the operator you want to use, + for add, - for subtract, * for multiply, / for divide, or end to stop the calculator: +\n",
      "Please enter first value here: 5\n",
      "Please enter second value here: 3\n",
      "5+3 = 8\n",
      "Enter the operator you want to use, + for add, - for subtract, * for multiply, / for divide, or end to stop the calculator: -\n",
      "Please enter first value here: 43\n",
      "Please enter second value here: 2\n",
      "43-2 = 41\n",
      "Enter the operator you want to use, + for add, - for subtract, * for multiply, / for divide, or end to stop the calculator: *\n",
      "Please enter first value here: 4\n",
      "Please enter second value here: 2\n",
      "4*2 = 8\n",
      "Enter the operator you want to use, + for add, - for subtract, * for multiply, / for divide, or end to stop the calculator: /\n",
      "Please enter first value here: 4\n",
      "Please enter second value here: 1\n",
      "4/1 = 4\n",
      "Enter the operator you want to use, + for add, - for subtract, * for multiply, / for divide, or end to stop the calculator: end\n"
     ]
    }
   ],
   "source": [
    "### YOUR CODE GOES \n",
    "class Calculator:\n",
    "    def __init__(self, number1,number2):\n",
    "        self.number1 = number1\n",
    "        self.number2 = number2\n",
    "    def add(self):\n",
    "        return self.number1 + self.number2\n",
    "    def subtract(self):\n",
    "        return self.number1 - self.number2\n",
    "    def multiply(self):\n",
    "        return self.number1 * self.number2\n",
    "    def divide(self):\n",
    "        return self.number1/self.number2\n",
    "\n",
    "    \n",
    "\n",
    "user_chooses = ' '\n",
    "\n",
    "while user_chooses != \"end\" and user_chooses != \"End\":\n",
    "    user_chooses = raw_input(\"Enter the operator you want to use, + for add, - for subtract, * for multiply, / for divide, or end to stop the calculator: \")\n",
    "    if user_chooses != \"end\" and user_chooses != \"End\" :\n",
    "        \n",
    "        number1 = int(raw_input(\"Please enter first value here: \"))\n",
    "        number2 = int(raw_input(\"Please enter second value here: \"))\n",
    "        something = Calculator(number1, number2)\n",
    "        if user_chooses == \"+\":\n",
    "            print (str(number1)+ user_chooses + str(number2)+ \" = \"  + str(something.add()))\n",
    "        elif user_chooses == \"-\":\n",
    "            print (str(number1)+ user_chooses + str(number2)+ \" = \"  + str(something.subtract()))\n",
    "        elif user_chooses == \"*\":\n",
    "            print (str(number1)+ user_chooses + str(number2)+ \" = \"  + str(something.multiply()))\n",
    "        elif user_chooses == \"/\":\n",
    "            print (str(number1)+ user_chooses + str(number2)+ \" = \"  + str(something.divide()))\n",
    "\n",
    "    \n",
    "### END CODE"
   ]
  },
  {
   "cell_type": "markdown",
   "metadata": {},
   "source": [
    "# Optional Exercise"
   ]
  },
  {
   "cell_type": "markdown",
   "metadata": {},
   "source": [
    "#### Exercise 6"
   ]
  },
  {
   "cell_type": "markdown",
   "metadata": {
    "collapsed": true
   },
   "source": [
    "In the next two problems, you’ll be building an address book using object-­‐oriented programming in Python. To begin, you’ll define a Person class. You’ll use this class in the next problem to build your address book – each entry in your address book will be an instance of the Person class.\n",
    "\n",
    "To begin, define the    init    and    str    methods for the Person class. Read the Python documentation if needed to help you understand what    init__ and    str \t need to do.\n",
    "\n",
    "Here’s an example interaction in the Python shell demonstrating how your class should work after implementing these two methods:"
   ]
  },
  {
   "cell_type": "raw",
   "metadata": {},
   "source": [
    "\n",
    "\n",
    "Emily = Person(“Zhang”, “Emily”, “5559358150”, “emzhang@mit.edu”)\n",
    "print Emily\n",
    "Zhang, Emily -- Phone Number: 5559358150 -- Email Address(es): emzhang@mit.edu\n",
    "Wesley = Person(“Graybill”, “Wesley”, “5551940325”, [‘wgray496@mit.edu’, ‘wdgraybill@gmail.com’])\n",
    "print Wesley\n",
    "Graybill, Wesley -- Phone Number: 5551940325 -- Email Address(es): wgray496@mit.edu, wdgraybill@gmail.com"
   ]
  },
  {
   "cell_type": "code",
   "execution_count": 13,
   "metadata": {},
   "outputs": [
    {
     "name": "stdout",
     "output_type": "stream",
     "text": [
      "\n",
      "Name:Graybill, Wesley-- Phone :5551940325-- Email Address(es):['wgray496@mit.edu', 'wdgraybill@gmail.com']\n",
      "\n",
      "Name:Zhang, Emily-- Phone :5559358150-- Email Address(es):emzhang@mit.edu\n"
     ]
    }
   ],
   "source": [
    "### YOUR CODE GOES \n",
    "class Person:\n",
    "    def __init__(self,last_name,first_name,phone, email):\n",
    "        self.last_name = last_name\n",
    "        self.first_name = first_name\n",
    "        self.phone = phone\n",
    "        self.email = email\n",
    "        #super(Person,self).__init__(last_name,first_name,phone,email)\n",
    "    def __str__(self):\n",
    "        info = \"\\nName:\" + self.last_name +\", \"+ self.first_name\n",
    "        info += \"-- Phone :\" + str(self.phone)\n",
    "        info += \"-- Email Address(es):\" + str(self.email)\n",
    "        return info\n",
    "        \n",
    "Emily = Person(\"Zhang\", \"Emily\", \"5559358150\", \"emzhang@mit.edu\")\n",
    "Wesley = Person(\"Graybill\", \"Wesley\", \"5551940325\", ['wgray496@mit.edu', 'wdgraybill@gmail.com'])\n",
    "print Wesley\n",
    "print Emily\n",
    "### END CODE"
   ]
  },
  {
   "cell_type": "markdown",
   "metadata": {},
   "source": [
    "#### Exercise 7"
   ]
  },
  {
   "cell_type": "markdown",
   "metadata": {},
   "source": [
    "In this problem, you will use your Person class from the previous problem to create an address book for storing the contacts of your friends and family. It should allow you to search the address book for a friend, and return their contact information.\n",
    "\n",
    "Begin by defining an   init   method. Don’t forget about Python's built-­‐in dictionary data type.\n",
    "\n",
    "Next, write a method add_contact that allows you to add a new person to the address book.\n",
    "\n",
    "Finally, write a method lookup_contact that looks up a contact by last name. The method should accept the last name as an argument, and print each contact that matches the last name on a new line. As an additional challenge, extend this method to allow users to optionally specify a first name to narrow down the results when multiple contacts have the same last name. To learn more about optional arguments in Python, search for terms such as “optional arguments in Python” and “default arguments in Python”.\n",
    "\n",
    "For example, suppose the contact book contains entries for both Ali Kamil, and his wife Sama Kamil. The following is an example output:\n"
   ]
  },
  {
   "cell_type": "raw",
   "metadata": {},
   "source": [
    ">>> a = AddressBook()\n",
    ">>> a.add_person(Person(“Kamil”, “Ali”, … ))\n",
    ">>> a.add_person(Person(“Kamil”, “Sama”, … ))\n",
    ">>> a.lookup_contact(“Kamil”) Kamil, Ali -- Phone Number: … Kamil, Sama -- Phone Number: …\n",
    ">>> a.lookup_contact(“Kamil”, “Ali”)\n",
    "Kamil, Ali -- Phone Number: …\n"
   ]
  },
  {
   "cell_type": "code",
   "execution_count": 6,
   "metadata": {
    "collapsed": true
   },
   "outputs": [],
   "source": [
    "### YOUR CODE GOES \n",
    "\n",
    "\n",
    "### END CODE"
   ]
  },
  {
   "cell_type": "code",
   "execution_count": null,
   "metadata": {
    "collapsed": true
   },
   "outputs": [],
   "source": []
  }
 ],
 "metadata": {
  "kernelspec": {
   "display_name": "Python 2",
   "language": "python",
   "name": "python2"
  },
  "language_info": {
   "codemirror_mode": {
    "name": "ipython",
    "version": 2
   },
   "file_extension": ".py",
   "mimetype": "text/x-python",
   "name": "python",
   "nbconvert_exporter": "python",
   "pygments_lexer": "ipython2",
   "version": "2.7.14"
  }
 },
 "nbformat": 4,
 "nbformat_minor": 2
}
