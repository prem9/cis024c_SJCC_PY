{
 "cells": [
  {
   "cell_type": "code",
   "execution_count": null,
   "metadata": {
    "collapsed": true
   },
   "outputs": [],
   "source": [
    "class Employee:\n",
    "    pass\n",
    "        "
   ]
  },
  {
   "cell_type": "code",
   "execution_count": null,
   "metadata": {
    "collapsed": true
   },
   "outputs": [],
   "source": [
    "emp_1 = Employee()"
   ]
  },
  {
   "cell_type": "code",
   "execution_count": null,
   "metadata": {
    "collapsed": true
   },
   "outputs": [],
   "source": [
    "emp_1"
   ]
  },
  {
   "cell_type": "code",
   "execution_count": null,
   "metadata": {
    "collapsed": true
   },
   "outputs": [],
   "source": [
    "emp_1.name = \"Bob\""
   ]
  },
  {
   "cell_type": "code",
   "execution_count": null,
   "metadata": {
    "collapsed": true
   },
   "outputs": [],
   "source": [
    "emp_1.age = 45"
   ]
  },
  {
   "cell_type": "code",
   "execution_count": null,
   "metadata": {
    "collapsed": true
   },
   "outputs": [],
   "source": [
    "emp_2 = Employee()"
   ]
  },
  {
   "cell_type": "code",
   "execution_count": null,
   "metadata": {
    "collapsed": true
   },
   "outputs": [],
   "source": [
    "emp_2.name = \"Harry\"\n",
    "emp_2.age = 55"
   ]
  },
  {
   "cell_type": "code",
   "execution_count": null,
   "metadata": {
    "collapsed": true
   },
   "outputs": [],
   "source": [
    "emp_1"
   ]
  },
  {
   "cell_type": "code",
   "execution_count": null,
   "metadata": {
    "collapsed": true
   },
   "outputs": [],
   "source": [
    "emp_2"
   ]
  },
  {
   "cell_type": "code",
   "execution_count": null,
   "metadata": {
    "collapsed": true
   },
   "outputs": [],
   "source": [
    "emp_1.name"
   ]
  },
  {
   "cell_type": "code",
   "execution_count": null,
   "metadata": {
    "collapsed": true
   },
   "outputs": [],
   "source": [
    "emp_2.name"
   ]
  },
  {
   "cell_type": "code",
   "execution_count": null,
   "metadata": {
    "collapsed": true
   },
   "outputs": [],
   "source": [
    "class Employee:\n",
    "    \n",
    "    def __init__(self,name,age):\n",
    "        self.name = name\n",
    "        self.age = age\n",
    "    "
   ]
  },
  {
   "cell_type": "code",
   "execution_count": null,
   "metadata": {
    "collapsed": true
   },
   "outputs": [],
   "source": [
    "emp_1 = Employee('Bob',45)"
   ]
  },
  {
   "cell_type": "code",
   "execution_count": null,
   "metadata": {
    "collapsed": true
   },
   "outputs": [],
   "source": [
    "emp_1"
   ]
  },
  {
   "cell_type": "code",
   "execution_count": null,
   "metadata": {
    "collapsed": true
   },
   "outputs": [],
   "source": [
    "emp_1.age"
   ]
  },
  {
   "cell_type": "code",
   "execution_count": null,
   "metadata": {
    "collapsed": true
   },
   "outputs": [],
   "source": [
    "emp_1.name"
   ]
  },
  {
   "cell_type": "code",
   "execution_count": null,
   "metadata": {
    "collapsed": true
   },
   "outputs": [],
   "source": [
    "emp_2 = Employee('Harry',55)"
   ]
  },
  {
   "cell_type": "code",
   "execution_count": null,
   "metadata": {
    "collapsed": true
   },
   "outputs": [],
   "source": [
    "print emp_2.age,emp_2.name"
   ]
  },
  {
   "cell_type": "code",
   "execution_count": null,
   "metadata": {
    "collapsed": true
   },
   "outputs": [],
   "source": [
    "class Employee:\n",
    "    \n",
    "    def __init__(self,name,age):\n",
    "        self.name = name\n",
    "        self.age = age\n",
    "        \n",
    "        self.salary = 0\n",
    "        \n",
    "    def displayInfo(self):\n",
    "        print(\"Name:\",self.name)\n",
    "        print(\"Age :\",self.age)\n",
    "        print(\"Salary:\",self.salary)\n",
    "    "
   ]
  },
  {
   "cell_type": "code",
   "execution_count": null,
   "metadata": {
    "collapsed": true
   },
   "outputs": [],
   "source": [
    "emp_1 = Employee(\"Bob\",45)"
   ]
  },
  {
   "cell_type": "code",
   "execution_count": null,
   "metadata": {
    "collapsed": true
   },
   "outputs": [],
   "source": [
    "emp_1.displayInfo()"
   ]
  },
  {
   "cell_type": "code",
   "execution_count": null,
   "metadata": {
    "collapsed": true
   },
   "outputs": [],
   "source": [
    "emp_1.salary = 60000"
   ]
  },
  {
   "cell_type": "code",
   "execution_count": null,
   "metadata": {
    "collapsed": true
   },
   "outputs": [],
   "source": [
    "emp_1.displayInfo()"
   ]
  },
  {
   "cell_type": "code",
   "execution_count": 9,
   "metadata": {
    "collapsed": true
   },
   "outputs": [],
   "source": [
    "class Employee:\n",
    "    \n",
    "    def __init__(self,name,age):\n",
    "        self.name = name\n",
    "        self.age = age\n",
    "        \n",
    "        self.__salary = 0\n",
    "        \n",
    "    def updateSalary(self,salary):\n",
    "        \n",
    "        if salary < 100000:\n",
    "            self.__salary = salary\n",
    "        else:\n",
    "            print(\"Invalid salary amount\")\n",
    "        \n",
    "    def displayInfo(self):\n",
    "        print(\"Name:\",self.name)\n",
    "        print(\"Age :\",self.age)\n",
    "        print(\"Salary:\",self.__salary)"
   ]
  },
  {
   "cell_type": "code",
   "execution_count": 10,
   "metadata": {
    "collapsed": true
   },
   "outputs": [],
   "source": [
    "emp_1 = Employee(\"Bob\",45)"
   ]
  },
  {
   "cell_type": "code",
   "execution_count": 11,
   "metadata": {},
   "outputs": [
    {
     "name": "stdout",
     "output_type": "stream",
     "text": [
      "Name: Bob\n",
      "Age : 45\n",
      "Salary: 0\n"
     ]
    }
   ],
   "source": [
    "emp_1.displayInfo()"
   ]
  },
  {
   "cell_type": "code",
   "execution_count": 12,
   "metadata": {
    "collapsed": true
   },
   "outputs": [],
   "source": [
    "emp_1.updateSalary(50000)"
   ]
  },
  {
   "cell_type": "code",
   "execution_count": 13,
   "metadata": {},
   "outputs": [
    {
     "name": "stdout",
     "output_type": "stream",
     "text": [
      "Name: Bob\n",
      "Age : 45\n",
      "Salary: 50000\n"
     ]
    }
   ],
   "source": [
    "emp_1.displayInfo()"
   ]
  },
  {
   "cell_type": "code",
   "execution_count": 14,
   "metadata": {
    "collapsed": true
   },
   "outputs": [],
   "source": [
    "emp_1.__salary = 10000000"
   ]
  },
  {
   "cell_type": "code",
   "execution_count": 15,
   "metadata": {},
   "outputs": [
    {
     "name": "stdout",
     "output_type": "stream",
     "text": [
      "Name: Bob\n",
      "Age : 45\n",
      "Salary: 50000\n"
     ]
    }
   ],
   "source": [
    "emp_1.displayInfo()"
   ]
  },
  {
   "cell_type": "code",
   "execution_count": 19,
   "metadata": {
    "collapsed": true
   },
   "outputs": [],
   "source": [
    "class Employee:\n",
    "    \n",
    "    count = 0\n",
    "    \n",
    "    def __init__(self,name,age):\n",
    "        self.name = name\n",
    "        self.age = age\n",
    "        \n",
    "        self.__salary = 0\n",
    "        \n",
    "        Employee.count += 1\n",
    "        \n",
    "    def updateSalary(self,salary):\n",
    "        \n",
    "        if salary < 100000:\n",
    "            self.__salary = salary\n",
    "        else:\n",
    "            print(\"Invalid salary amount\")\n",
    "        \n",
    "    def displayInfo(self):\n",
    "        print(\"Name:\",self.name)\n",
    "        print(\"Age :\",self.age)\n",
    "        print(\"Salary:\",self.__salary)"
   ]
  },
  {
   "cell_type": "code",
   "execution_count": 20,
   "metadata": {
    "collapsed": true
   },
   "outputs": [],
   "source": [
    "emp_1 = Employee(\"Bob\",45)\n",
    "emp_2 = Employee(\"Harry\",55)"
   ]
  },
  {
   "cell_type": "code",
   "execution_count": 21,
   "metadata": {},
   "outputs": [
    {
     "name": "stdout",
     "output_type": "stream",
     "text": [
      "2\n"
     ]
    }
   ],
   "source": [
    "print(Employee.count)"
   ]
  },
  {
   "cell_type": "markdown",
   "metadata": {},
   "source": [
    "## Operator Overloading"
   ]
  },
  {
   "cell_type": "code",
   "execution_count": 22,
   "metadata": {
    "collapsed": true
   },
   "outputs": [],
   "source": [
    "s = \"Harry \"\n",
    "l = \"Bob \""
   ]
  },
  {
   "cell_type": "code",
   "execution_count": 23,
   "metadata": {},
   "outputs": [
    {
     "data": {
      "text/plain": [
       "'Harry Bob '"
      ]
     },
     "execution_count": 23,
     "metadata": {},
     "output_type": "execute_result"
    }
   ],
   "source": [
    "s+l"
   ]
  },
  {
   "cell_type": "code",
   "execution_count": 54,
   "metadata": {
    "collapsed": true
   },
   "outputs": [],
   "source": [
    "class Number:\n",
    "    \n",
    "    def __init__(self,number):\n",
    "        self.number = number\n",
    "        \n",
    "    def displayInfo(self):\n",
    "        print(\"Number:\",self.number)\n",
    "        \n",
    "    def __add__(self,rhs_number):\n",
    "        \n",
    "        return Number(self.number + rhs_number.number)\n",
    "    \n",
    "    def __len__(self):\n",
    "        \n",
    "        return len(str(self.number))\n",
    "    \n",
    "    def __str__(self):\n",
    "        \n",
    "        return(\"Number:\" + str(self.number))\n",
    "        \n",
    "        "
   ]
  },
  {
   "cell_type": "code",
   "execution_count": 55,
   "metadata": {
    "collapsed": true
   },
   "outputs": [],
   "source": [
    "n1 = Number(35)"
   ]
  },
  {
   "cell_type": "code",
   "execution_count": 56,
   "metadata": {},
   "outputs": [
    {
     "name": "stdout",
     "output_type": "stream",
     "text": [
      "Number: 35\n"
     ]
    }
   ],
   "source": [
    "n1.displayInfo()"
   ]
  },
  {
   "cell_type": "code",
   "execution_count": 57,
   "metadata": {
    "collapsed": true
   },
   "outputs": [],
   "source": [
    "n2 = Number(55)"
   ]
  },
  {
   "cell_type": "code",
   "execution_count": 58,
   "metadata": {
    "collapsed": true
   },
   "outputs": [],
   "source": [
    "n3 = n1+n2"
   ]
  },
  {
   "cell_type": "code",
   "execution_count": 59,
   "metadata": {},
   "outputs": [
    {
     "name": "stdout",
     "output_type": "stream",
     "text": [
      "Number: 90\n"
     ]
    }
   ],
   "source": [
    "n3.displayInfo()"
   ]
  },
  {
   "cell_type": "code",
   "execution_count": 60,
   "metadata": {},
   "outputs": [
    {
     "data": {
      "text/plain": [
       "5"
      ]
     },
     "execution_count": 60,
     "metadata": {},
     "output_type": "execute_result"
    }
   ],
   "source": [
    "s = \"Harry\"\n",
    "\n",
    "len(s)"
   ]
  },
  {
   "cell_type": "code",
   "execution_count": 61,
   "metadata": {},
   "outputs": [
    {
     "data": {
      "text/plain": [
       "2"
      ]
     },
     "execution_count": 61,
     "metadata": {},
     "output_type": "execute_result"
    }
   ],
   "source": [
    "len(n3)"
   ]
  },
  {
   "cell_type": "code",
   "execution_count": 62,
   "metadata": {},
   "outputs": [
    {
     "name": "stdout",
     "output_type": "stream",
     "text": [
      "Number:90\n"
     ]
    }
   ],
   "source": [
    "print(n3)"
   ]
  },
  {
   "cell_type": "code",
   "execution_count": 93,
   "metadata": {
    "collapsed": true
   },
   "outputs": [],
   "source": [
    "class Employee(object):\n",
    "    \n",
    "        count = 0\n",
    "    \n",
    "    def __init__(self,name,age):\n",
    "        self.name = name\n",
    "        self.age = age\n",
    "        \n",
    "        self.__salary = 0\n",
    "        \n",
    "        Employee.count += 1\n",
    "        \n",
    "    def updateSalary(self,salary):\n",
    "        \n",
    "        if salary < 100000:\n",
    "            self.__salary = salary\n",
    "        else:\n",
    "            print(\"Invalid salary amount\")\n",
    "        \n",
    "    def displayInfo(self):\n",
    "        print(\"Name:\",self.name)\n",
    "        print(\"Age :\",self.age)\n",
    "        print(\"Salary:\",self.__salary)\n",
    "        \n",
    "    def __str__(self):\n",
    "        \n",
    "        info = \"\\nName:\" + self.name\n",
    "        info += \"\\nAge :\" + str(self.age)\n",
    "        info += \"\\nSalary:\" + str(self.__salary)\n",
    "        \n",
    "        return info"
   ]
  },
  {
   "cell_type": "code",
   "execution_count": 102,
   "metadata": {
    "collapsed": true
   },
   "outputs": [],
   "source": [
    "class FullTimeEmployee(Employee):\n",
    "    \n",
    "    def __init__(self,name,age,tenured):\n",
    "        \n",
    "        self.tenured  = tenured\n",
    "        \n",
    "        super(FullTimeEmployee, self).__init__(name,age)\n",
    "        \n",
    "    def displayInfo(self):\n",
    "        \n",
    "        print(super(FullTimeEmployee,self).displayInfo())\n",
    "        print(\"Tenured:\",self.tenured)\n",
    "        \n",
    "    def __str__(self):\n",
    "        \n",
    "        info = super(FullTimeEmployee,self).__str__()\n",
    "        \n",
    "        totalInfo = info + (\"\\nTenured:\" + str(self.tenured))\n",
    "        \n",
    "        return totalInfo\n"
   ]
  },
  {
   "cell_type": "code",
   "execution_count": 112,
   "metadata": {
    "collapsed": true
   },
   "outputs": [],
   "source": [
    "class PartTimeEmployee(Employee):\n",
    "    \n",
    "    def __init__(self,name,age,overtime_pay):\n",
    "        \n",
    "        self.overtime_pay  = overtime_pay\n",
    "        \n",
    "        super(PartTimeEmployee, self).__init__(name,age)\n",
    "        \n",
    "    def displayInfo(self):\n",
    "        \n",
    "        print(super(PartTimeEmployee,self).displayInfo())\n",
    "        print(\"Overtime Pay:\",self.overtime_pay)\n",
    "        \n",
    "    def __str__(self):\n",
    "        \n",
    "        info = super(PartTimeEmployee,self).__str__()\n",
    "        \n",
    "        totalInfo = info + (\"\\nOver Time Pay:\" + str(self.overtime_pay))\n",
    "        \n",
    "        return totalInfo\n"
   ]
  },
  {
   "cell_type": "code",
   "execution_count": 113,
   "metadata": {
    "collapsed": true
   },
   "outputs": [],
   "source": [
    "emp_1 = FullTimeEmployee(\"Bob\",45,True)\n",
    "emp_2 = PartTimeEmployee(\"Harry\",55,20000)"
   ]
  },
  {
   "cell_type": "code",
   "execution_count": 114,
   "metadata": {},
   "outputs": [
    {
     "name": "stdout",
     "output_type": "stream",
     "text": [
      "\n",
      "Name:Bob\n",
      "Age :45\n",
      "Salary:0\n",
      "Tenured:True\n"
     ]
    }
   ],
   "source": [
    "print(emp_1)"
   ]
  },
  {
   "cell_type": "code",
   "execution_count": 115,
   "metadata": {},
   "outputs": [
    {
     "name": "stdout",
     "output_type": "stream",
     "text": [
      "\n",
      "Name:Harry\n",
      "Age :55\n",
      "Salary:0\n",
      "Over Time Pay:20000\n"
     ]
    }
   ],
   "source": [
    "print(emp_2)"
   ]
  },
  {
   "cell_type": "code",
   "execution_count": 117,
   "metadata": {},
   "outputs": [
    {
     "name": "stdout",
     "output_type": "stream",
     "text": [
      "\n",
      "Name:Bob\n",
      "Age :45\n",
      "Salary:0\n",
      "Tenured:True\n",
      "\n",
      "Name:Harry\n",
      "Age :55\n",
      "Salary:0\n",
      "Over Time Pay:20000\n"
     ]
    }
   ],
   "source": [
    "employees = [emp_1,emp_2]\n",
    "\n",
    "for employee in employees:\n",
    "    print(employee)"
   ]
  },
  {
   "cell_type": "code",
   "execution_count": 106,
   "metadata": {},
   "outputs": [
    {
     "name": "stdout",
     "output_type": "stream",
     "text": [
      "Name: Bob\n",
      "Age : 45\n",
      "Salary: 0\n",
      "None\n",
      "Tenured: True\n"
     ]
    }
   ],
   "source": [
    "emp_1.displayInfo()"
   ]
  },
  {
   "cell_type": "code",
   "execution_count": 98,
   "metadata": {},
   "outputs": [
    {
     "name": "stdout",
     "output_type": "stream",
     "text": [
      "\n",
      "Name:Bob\n",
      "Age :45\n",
      "Salary:0\n",
      "Tenured:True\n"
     ]
    }
   ],
   "source": [
    "print(emp_1)"
   ]
  },
  {
   "cell_type": "code",
   "execution_count": 99,
   "metadata": {},
   "outputs": [
    {
     "data": {
      "text/plain": [
       "<__main__.FullTimeEmployee at 0x10ba675c0>"
      ]
     },
     "execution_count": 99,
     "metadata": {},
     "output_type": "execute_result"
    }
   ],
   "source": [
    "emp_1"
   ]
  },
  {
   "cell_type": "code",
   "execution_count": 100,
   "metadata": {},
   "outputs": [
    {
     "data": {
      "text/plain": [
       "1"
      ]
     },
     "execution_count": 100,
     "metadata": {},
     "output_type": "execute_result"
    }
   ],
   "source": [
    "emp_1.count"
   ]
  },
  {
   "cell_type": "code",
   "execution_count": 101,
   "metadata": {},
   "outputs": [
    {
     "data": {
      "text/plain": [
       "1"
      ]
     },
     "execution_count": 101,
     "metadata": {},
     "output_type": "execute_result"
    }
   ],
   "source": [
    "Employee.count"
   ]
  },
  {
   "cell_type": "code",
   "execution_count": null,
   "metadata": {
    "collapsed": true
   },
   "outputs": [],
   "source": []
  }
 ],
 "metadata": {
  "kernelspec": {
   "display_name": "Python 2",
   "language": "python",
   "name": "python2"
  },
  "language_info": {
   "codemirror_mode": {
    "name": "ipython",
    "version": 2
   },
   "file_extension": ".py",
   "mimetype": "text/x-python",
   "name": "python",
   "nbconvert_exporter": "python",
   "pygments_lexer": "ipython2",
   "version": "2.7.14"
  }
 },
 "nbformat": 4,
 "nbformat_minor": 2
}
