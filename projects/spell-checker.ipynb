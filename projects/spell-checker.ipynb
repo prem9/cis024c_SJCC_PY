{
 "cells": [
  {
   "cell_type": "markdown",
   "metadata": {},
   "source": [
    "# Similarity/Spell-Checker"
   ]
  },
  {
   "cell_type": "markdown",
   "metadata": {},
   "source": [
    "Create a Python module using the similarity function. Write a Python program to invoke the similarity function on any word entered by the user."
   ]
  },
  {
   "cell_type": "code",
   "execution_count": 5,
   "metadata": {
    "collapsed": true
   },
   "outputs": [],
   "source": [
    "def spellcheck(inputWord,wordCorpus):\n",
    "def spellcheck(inputWord,wordCorpus):\n",
    "    \n",
    "    # get list of words that share the relatively same size +/- 1 letter\n",
    "    \n",
    "    if len(inputWord) == 0:\n",
    "        print \"Please provide a valid word\"\n",
    "        #return \"INVALID_ENTRY\"\n",
    "    \n",
    "\n",
    "    \n",
    "    \n",
    "    print \"Input word:\",inputWord\n",
    "    #print wordCorpus\n",
    "    #inputWord = str.split(inputWord)\n",
    "    word_found = False\n",
    "    for entry in wordCorpus:\n",
    "        #print entry\n",
    "        if entry == inputWord or entry == inputWord[:len(inputWord)-1]:\n",
    "            print \"Valid word found\", inputWord\n",
    "            word_found = True\n",
    "            break\n",
    "    if word_found == False:\n",
    "        print \"Not a valid word in dictionary:\", inputWord"
   ]
  },
  {
   "cell_type": "code",
   "execution_count": 1,
   "metadata": {
    "scrolled": false
   },
   "outputs": [
    {
     "name": "stdout",
     "output_type": "stream",
     "text": [
      "Enter a sentence you want to spell-check from 20k.txt: Let's do it together!\n",
      "Input word: lets\n",
      "Valid word found lets\n",
      "None\n",
      "Input word: do\n",
      "Valid word found do\n",
      "None\n",
      "Input word: it\n",
      "Valid word found it\n",
      "None\n",
      "Input word: together!\n",
      "Valid word found together!\n",
      "None\n"
     ]
    }
   ],
   "source": [
    "#%%writefile similarity.py\n",
    "import spellcheck\n",
    "\n",
    "# take all words from alice and store them in memory\n",
    "\n",
    "aliceFile = open(\"20k.txt\")\n",
    "\n",
    "wordCorpus = []\n",
    "\n",
    "for line in aliceFile:\n",
    "    \n",
    "    # remove newlines\n",
    "    line = line.strip().lower()\n",
    "    \n",
    "    # get words\n",
    "    words = line.split(\" \")\n",
    "    #print words\n",
    "    for word in words:\n",
    "        if word.isalnum():\n",
    "            if word not in wordCorpus:\n",
    "                wordCorpus.append(word)\n",
    "user_input = raw_input(\"Enter a sentence you want to spell-check from 20k.txt: \")                \n",
    "\n",
    "#print wordCorpus\n",
    "user_input = str.split(user_input)\n",
    "\n",
    "x = 0\n",
    "for words in user_input:\n",
    "    user_input[x] = user_input[x].translate(None, '.,!?\"-'and \"'\")\n",
    "    user_input[x] = user_input[x].lower()\n",
    "    print spellcheck.spellcheck(user_input[x],wordCorpus)\n",
    "    x +=1\n"
   ]
  },
  {
   "cell_type": "code",
   "execution_count": 16,
   "metadata": {},
   "outputs": [
    {
     "name": "stdout",
     "output_type": "stream",
     "text": [
      "today, isnt a great day?!?-.\n"
     ]
    }
   ],
   "source": [
    "import string\n",
    "s = \"today, isn't a great day?!?-.\"\n",
    "s = s.translate(None, '.,!?\"-'and \"'\")\n",
    "print s"
   ]
  },
  {
   "cell_type": "code",
   "execution_count": null,
   "metadata": {
    "collapsed": true
   },
   "outputs": [],
   "source": []
  }
 ],
 "metadata": {
  "kernelspec": {
   "display_name": "Python 2",
   "language": "python",
   "name": "python2"
  },
  "language_info": {
   "codemirror_mode": {
    "name": "ipython",
    "version": 2
   },
   "file_extension": ".py",
   "mimetype": "text/x-python",
   "name": "python",
   "nbconvert_exporter": "python",
   "pygments_lexer": "ipython2",
   "version": "2.7.14"
  }
 },
 "nbformat": 4,
 "nbformat_minor": 1
}
