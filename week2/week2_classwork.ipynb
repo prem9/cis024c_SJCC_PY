{
 "cells": [
  {
   "cell_type": "code",
   "execution_count": 8,
   "metadata": {},
   "outputs": [
    {
     "name": "stdout",
     "output_type": "stream",
     "text": [
      "Enter your age:30\n"
     ]
    }
   ],
   "source": [
    "age = raw_input(\"Enter your age:\")"
   ]
  },
  {
   "cell_type": "code",
   "execution_count": 9,
   "metadata": {},
   "outputs": [
    {
     "data": {
      "text/plain": [
       "'30'"
      ]
     },
     "execution_count": 9,
     "metadata": {},
     "output_type": "execute_result"
    }
   ],
   "source": [
    "age"
   ]
  },
  {
   "cell_type": "code",
   "execution_count": 10,
   "metadata": {},
   "outputs": [
    {
     "data": {
      "text/plain": [
       "str"
      ]
     },
     "execution_count": 10,
     "metadata": {},
     "output_type": "execute_result"
    }
   ],
   "source": [
    "type(age)"
   ]
  },
  {
   "cell_type": "code",
   "execution_count": 11,
   "metadata": {
    "collapsed": true
   },
   "outputs": [],
   "source": [
    "age = int(age)"
   ]
  },
  {
   "cell_type": "code",
   "execution_count": 12,
   "metadata": {},
   "outputs": [
    {
     "name": "stdout",
     "output_type": "stream",
     "text": [
      "30 <type 'int'>\n"
     ]
    }
   ],
   "source": [
    "print age,type(age)"
   ]
  },
  {
   "cell_type": "code",
   "execution_count": 13,
   "metadata": {
    "collapsed": true
   },
   "outputs": [],
   "source": [
    "if age == 23:\n",
    "    print \"Age is equal to 23\""
   ]
  },
  {
   "cell_type": "code",
   "execution_count": 14,
   "metadata": {},
   "outputs": [
    {
     "name": "stdout",
     "output_type": "stream",
     "text": [
      "Enter your name:Harry\n",
      "Harry found\n"
     ]
    }
   ],
   "source": [
    "name = raw_input(\"Enter your name:\")\n",
    "\n",
    "if name == \"Harry\":\n",
    "    print \"Harry found\""
   ]
  },
  {
   "cell_type": "code",
   "execution_count": 15,
   "metadata": {},
   "outputs": [
    {
     "name": "stdout",
     "output_type": "stream",
     "text": [
      "User is an adult\n"
     ]
    }
   ],
   "source": [
    "if age > 18:\n",
    "    print \"User is an adult\"\n",
    "else:\n",
    "    print \"User is not adult\""
   ]
  },
  {
   "cell_type": "code",
   "execution_count": 18,
   "metadata": {},
   "outputs": [],
   "source": [
    "name = \"Bob\""
   ]
  },
  {
   "cell_type": "code",
   "execution_count": 19,
   "metadata": {},
   "outputs": [
    {
     "name": "stdout",
     "output_type": "stream",
     "text": [
      "Neither Joe nor Harry found\n"
     ]
    }
   ],
   "source": [
    "if name == \"Joe\":\n",
    "    print \"Joe found\"\n",
    "elif name == \"Harry\":\n",
    "    print \"Harry found\"\n",
    "else:\n",
    "    print \"Neither Joe nor Harry found\""
   ]
  },
  {
   "cell_type": "code",
   "execution_count": 20,
   "metadata": {
    "collapsed": true
   },
   "outputs": [],
   "source": [
    "if name == \"Joe\":\n",
    "    print \"Joe found\"\n",
    "elif name == \"Harry\":\n",
    "    print \"Harry found\""
   ]
  },
  {
   "cell_type": "code",
   "execution_count": 21,
   "metadata": {},
   "outputs": [
    {
     "name": "stdout",
     "output_type": "stream",
     "text": [
      "Is overdraft protection enabled:True\n"
     ]
    }
   ],
   "source": [
    "overdraft_protection_enabled = raw_input('Is overdraft protection enabled:')\n"
   ]
  },
  {
   "cell_type": "code",
   "execution_count": 22,
   "metadata": {},
   "outputs": [
    {
     "data": {
      "text/plain": [
       "str"
      ]
     },
     "execution_count": 22,
     "metadata": {},
     "output_type": "execute_result"
    }
   ],
   "source": [
    "type(overdraft_protection_enabled)"
   ]
  },
  {
   "cell_type": "code",
   "execution_count": 25,
   "metadata": {
    "collapsed": true
   },
   "outputs": [],
   "source": [
    "overdraft_protection_enabled = bool(overdraft_protection_enabled)"
   ]
  },
  {
   "cell_type": "code",
   "execution_count": 27,
   "metadata": {},
   "outputs": [
    {
     "name": "stdout",
     "output_type": "stream",
     "text": [
      "<type 'bool'>\n"
     ]
    }
   ],
   "source": [
    "print type(overdraft_protection_enabled)"
   ]
  },
  {
   "cell_type": "code",
   "execution_count": 49,
   "metadata": {},
   "outputs": [
    {
     "name": "stdout",
     "output_type": "stream",
     "text": [
      "Enter your name:Ron\n",
      "Enter the account balance:20000\n",
      "Enter amount you would like to withdraw:30000\n",
      "Enter ODE status (True/False):False\n"
     ]
    }
   ],
   "source": [
    "name = raw_input(\"Enter your name:\")\n",
    "account_balance = raw_input(\"Enter the account balance:\")\n",
    "withdrawal_amount = raw_input(\"Enter amount you would like to withdraw:\")\n",
    "overdraft_protection_enabled = raw_input(\"Enter ODE status (True/False):\")"
   ]
  },
  {
   "cell_type": "code",
   "execution_count": 50,
   "metadata": {},
   "outputs": [
    {
     "data": {
      "text/plain": [
       "str"
      ]
     },
     "execution_count": 50,
     "metadata": {},
     "output_type": "execute_result"
    }
   ],
   "source": [
    "type(overdraft_protection_enabled)"
   ]
  },
  {
   "cell_type": "code",
   "execution_count": 51,
   "metadata": {},
   "outputs": [
    {
     "name": "stdout",
     "output_type": "stream",
     "text": [
      "False\n"
     ]
    }
   ],
   "source": [
    "print overdraft_protection_enabled"
   ]
  },
  {
   "cell_type": "code",
   "execution_count": 52,
   "metadata": {
    "collapsed": true
   },
   "outputs": [],
   "source": [
    "account_balance = int(account_balance)\n",
    "withdrawal_amount = int(withdrawal_amount)\n",
    "overdraft_protection_enabled = (overdraft_protection_enabled == \"True\")"
   ]
  },
  {
   "cell_type": "code",
   "execution_count": 53,
   "metadata": {},
   "outputs": [
    {
     "name": "stdout",
     "output_type": "stream",
     "text": [
      "False\n"
     ]
    }
   ],
   "source": [
    "print overdraft_protection_enabled"
   ]
  },
  {
   "cell_type": "code",
   "execution_count": 54,
   "metadata": {},
   "outputs": [
    {
     "name": "stdout",
     "output_type": "stream",
     "text": [
      "User has insufficient funds and no overdraft protection\n"
     ]
    }
   ],
   "source": [
    "if account_balance >= withdrawal_amount:\n",
    "    print \"User has sufficient balance\"\n",
    "elif overdraft_protection_enabled == True:\n",
    "    print \"User has insufficient funds but overdraft protection is enabled\"\n",
    "else:\n",
    "    print \"User has insufficient funds and no overdraft protection\""
   ]
  },
  {
   "cell_type": "markdown",
   "metadata": {},
   "source": [
    "### Repetition"
   ]
  },
  {
   "cell_type": "code",
   "execution_count": 57,
   "metadata": {},
   "outputs": [
    {
     "data": {
      "text/plain": [
       "[0, 2, 4, 6, 8]"
      ]
     },
     "execution_count": 57,
     "metadata": {},
     "output_type": "execute_result"
    }
   ],
   "source": [
    "range(0,10,2)"
   ]
  },
  {
   "cell_type": "code",
   "execution_count": 58,
   "metadata": {},
   "outputs": [
    {
     "data": {
      "text/plain": [
       "[0, 3, 6, 9]"
      ]
     },
     "execution_count": 58,
     "metadata": {},
     "output_type": "execute_result"
    }
   ],
   "source": [
    "range(0,10,3)"
   ]
  },
  {
   "cell_type": "code",
   "execution_count": 60,
   "metadata": {},
   "outputs": [
    {
     "data": {
      "text/plain": [
       "[10, 9, 8, 7, 6, 5, 4, 3, 2, 1]"
      ]
     },
     "execution_count": 60,
     "metadata": {},
     "output_type": "execute_result"
    }
   ],
   "source": [
    "range(10,0,-1)"
   ]
  },
  {
   "cell_type": "code",
   "execution_count": 61,
   "metadata": {},
   "outputs": [
    {
     "data": {
      "text/plain": [
       "[10, 8, 6, 4, 2]"
      ]
     },
     "execution_count": 61,
     "metadata": {},
     "output_type": "execute_result"
    }
   ],
   "source": [
    "range(10,0,-2)"
   ]
  },
  {
   "cell_type": "code",
   "execution_count": 64,
   "metadata": {},
   "outputs": [
    {
     "name": "stdout",
     "output_type": "stream",
     "text": [
      "Enter the beginning value:2\n",
      "Enter the ending value:6\n",
      "Total is: 14\n"
     ]
    }
   ],
   "source": [
    "# for loop\n",
    "\n",
    "numberSum = 0\n",
    "\n",
    "beginning_number = int(raw_input(\"Enter the beginning value:\"))\n",
    "ending_number = int(raw_input(\"Enter the ending value:\"))\n",
    "\n",
    "for number in range(beginning_number,ending_number):\n",
    "    numberSum = numberSum + number\n",
    "    \n",
    "print \"Total is:\", numberSum"
   ]
  },
  {
   "cell_type": "code",
   "execution_count": 66,
   "metadata": {},
   "outputs": [
    {
     "name": "stdout",
     "output_type": "stream",
     "text": [
      "Enter the beginning value:2\n",
      "Enter the ending value:6\n",
      "Total is: 14\n"
     ]
    }
   ],
   "source": [
    "# while loop\n",
    "\n",
    "numberSum = 0\n",
    "\n",
    "beginning_number = int(raw_input(\"Enter the beginning value:\"))\n",
    "ending_number = int(raw_input(\"Enter the ending value:\"))\n",
    "\n",
    "number = beginning_number\n",
    "\n",
    "while number < ending_number:\n",
    "    \n",
    "    numberSum = numberSum + number\n",
    "    number = number + 1\n",
    "    \n",
    "print \"Total is:\", numberSum\n"
   ]
  },
  {
   "cell_type": "code",
   "execution_count": 74,
   "metadata": {},
   "outputs": [
    {
     "name": "stdout",
     "output_type": "stream",
     "text": [
      "Enter the beginning value:95\n",
      "Enter the ending value:105\n",
      "Total is: 995\n"
     ]
    }
   ],
   "source": [
    "\n",
    "numberSum = 0\n",
    "\n",
    "beginning_number = int(raw_input(\"Enter the beginning value:\"))\n",
    "ending_number = int(raw_input(\"Enter the ending value:\"))\n",
    "\n",
    "number = beginning_number\n",
    "\n",
    "while number < ending_number:\n",
    "    \n",
    "    numberSum = numberSum + number\n",
    "    \n",
    "    number = number + 1\n",
    "    \n",
    "    #if number == 100:\n",
    "    #    print \"Found 100...breaking\"\n",
    "    #    break\n",
    "    \n",
    "print \"Total is:\", numberSum"
   ]
  },
  {
   "cell_type": "code",
   "execution_count": 77,
   "metadata": {},
   "outputs": [
    {
     "name": "stdout",
     "output_type": "stream",
     "text": [
      "Enter the beginning value:95\n",
      "Enter the ending value:105\n",
      "Total is: 895\n"
     ]
    }
   ],
   "source": [
    "numberSum = 0\n",
    "\n",
    "beginning_number = int(raw_input(\"Enter the beginning value:\"))\n",
    "ending_number = int(raw_input(\"Enter the ending value:\"))\n",
    "\n",
    "number = beginning_number\n",
    "\n",
    "while number < ending_number:\n",
    "    \n",
    "    if number == 100:\n",
    "        number = number + 1\n",
    "        continue\n",
    "    \n",
    "    numberSum = numberSum + number\n",
    "    number = number + 1\n",
    "    \n",
    "    \n",
    "print \"Total is:\", numberSum"
   ]
  },
  {
   "cell_type": "code",
   "execution_count": 82,
   "metadata": {},
   "outputs": [
    {
     "name": "stdout",
     "output_type": "stream",
     "text": [
      "49999995000000\n",
      "total time taken: 2.05266189575\n"
     ]
    }
   ],
   "source": [
    "# importing library\n",
    "\n",
    "import time\n",
    "\n",
    "startTime = time.time()\n",
    "\n",
    "total = 0\n",
    "for number in range(0,10000000):\n",
    "    total = total + number\n",
    "    \n",
    "print total\n",
    "\n",
    "elapsedTime = time.time() - startTime\n",
    "\n",
    "print \"total time taken:\", elapsedTime\n",
    "    "
   ]
  },
  {
   "cell_type": "code",
   "execution_count": 86,
   "metadata": {},
   "outputs": [
    {
     "name": "stdout",
     "output_type": "stream",
     "text": [
      "Enter your score:105\n",
      "Congratulations, you have passed\n",
      "Grade: A\n"
     ]
    }
   ],
   "source": [
    "# EXERCISE 1 - NESTED IF\n",
    "\n",
    "score = int(raw_input(\"Enter your score:\"))\n",
    "\n",
    "if score < 80:\n",
    "    print \"Sorry, but you have failed\"\n",
    "elif score >= 80:\n",
    "    print \"Congratulations, you have passed\"\n",
    "    \n",
    "    if score >= 90:\n",
    "        print \"Grade: A\"\n",
    "    else:\n",
    "        print \"Grade: B\""
   ]
  },
  {
   "cell_type": "code",
   "execution_count": 88,
   "metadata": {},
   "outputs": [
    {
     "name": "stdout",
     "output_type": "stream",
     "text": [
      "Enter student age:17\n",
      "Enter student age:23\n",
      "Enter student age:33\n",
      "Enter student age:28\n",
      "Enter student age:42\n",
      "Enter student age:60\n",
      "Average Age: 33\n"
     ]
    }
   ],
   "source": [
    "# EXERCISE 2 - AGE STATISTICS\n",
    "\n",
    "totalAge = 0\n",
    "for i in range(0,6):\n",
    "    \n",
    "    age = int(raw_input(\"Enter student age:\"))\n",
    "    \n",
    "    totalAge = totalAge + age\n",
    "    \n",
    "print \"Average Age:\", totalAge/6\n",
    "    "
   ]
  },
  {
   "cell_type": "code",
   "execution_count": 89,
   "metadata": {},
   "outputs": [
    {
     "name": "stdout",
     "output_type": "stream",
     "text": [
      "Enter student age:17\n",
      "Enter student age:23\n",
      "Enter student age:28\n",
      "Enter student age:33\n",
      "Enter student age:42\n",
      "Enter student age:60\n",
      "Average Age: 33\n",
      "Median Age: 30\n"
     ]
    }
   ],
   "source": [
    "totalAge = 0\n",
    "medianTotal = 0\n",
    "\n",
    "for i in range(0,6):\n",
    "    \n",
    "    age = int(raw_input(\"Enter student age:\"))\n",
    "    \n",
    "    totalAge = totalAge + age\n",
    "    \n",
    "    # compute median\n",
    "    if i == 2 or i == 3:\n",
    "        medianTotal = medianTotal + age\n",
    "    \n",
    "print \"Average Age:\", totalAge/6\n",
    "print \"Median Age:\", medianTotal/2"
   ]
  },
  {
   "cell_type": "code",
   "execution_count": 90,
   "metadata": {},
   "outputs": [
    {
     "name": "stdout",
     "output_type": "stream",
     "text": [
      "[17, 23, 33, 28, 42, 60]\n"
     ]
    }
   ],
   "source": [
    "ages = [17,23,33,28,42,60]\n",
    "\n",
    "print ages"
   ]
  },
  {
   "cell_type": "code",
   "execution_count": 91,
   "metadata": {},
   "outputs": [
    {
     "data": {
      "text/plain": [
       "[17, 23, 28, 33, 42, 60]"
      ]
     },
     "execution_count": 91,
     "metadata": {},
     "output_type": "execute_result"
    }
   ],
   "source": [
    "sorted(ages)"
   ]
  },
  {
   "cell_type": "code",
   "execution_count": 92,
   "metadata": {
    "collapsed": true
   },
   "outputs": [],
   "source": [
    "import numpy as np\n"
   ]
  },
  {
   "cell_type": "code",
   "execution_count": 93,
   "metadata": {},
   "outputs": [
    {
     "data": {
      "text/plain": [
       "30.5"
      ]
     },
     "execution_count": 93,
     "metadata": {},
     "output_type": "execute_result"
    }
   ],
   "source": [
    "np.median(ages)"
   ]
  },
  {
   "cell_type": "code",
   "execution_count": null,
   "metadata": {
    "collapsed": true
   },
   "outputs": [],
   "source": []
  }
 ],
 "metadata": {
  "kernelspec": {
   "display_name": "Python 2",
   "language": "python",
   "name": "python2"
  },
  "language_info": {
   "codemirror_mode": {
    "name": "ipython",
    "version": 2
   },
   "file_extension": ".py",
   "mimetype": "text/x-python",
   "name": "python",
   "nbconvert_exporter": "python",
   "pygments_lexer": "ipython2",
   "version": "2.7.14"
  }
 },
 "nbformat": 4,
 "nbformat_minor": 2
}
