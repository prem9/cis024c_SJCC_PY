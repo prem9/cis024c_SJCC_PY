{
 "cells": [
  {
   "cell_type": "code",
   "execution_count": 15,
   "metadata": {
    "collapsed": true
   },
   "outputs": [],
   "source": [
    "import string\n",
    "\n",
    "def getName(type=\"string\"):\n",
    "    \n",
    "    name = \"\"\n",
    "    \n",
    "    if type==\"string\":\n",
    "        matchString = string.digits\n",
    "    elif type==\"integer\":\n",
    "        matchString = string.ascii_letters\n",
    "        \n",
    "    while True:\n",
    "        name = raw_input(\"Enter your name:\")\n",
    "        \n",
    "        digitFound = False\n",
    "        for letter in name:\n",
    "            if letter in matchstring:\n",
    "                digitFound = True\n",
    "                break\n",
    "        \n",
    "        if digitFound == True:\n",
    "            print \"Name contains digits. Please try again...\"\n",
    "            continue\n",
    "            \n",
    "        break\n",
    "        \n",
    "    return name"
   ]
  },
  {
   "cell_type": "code",
   "execution_count": 10,
   "metadata": {
    "collapsed": true
   },
   "outputs": [],
   "source": [
    "class Student:\n",
    "    \n",
    "    def __init__(self):\n",
    "        self.name = None\n",
    "        \n",
    "    def setName(self):\n",
    "        self.name = getName()\n",
    "        "
   ]
  },
  {
   "cell_type": "code",
   "execution_count": 11,
   "metadata": {
    "collapsed": true
   },
   "outputs": [],
   "source": [
    "newStudent = Student()"
   ]
  },
  {
   "cell_type": "code",
   "execution_count": 12,
   "metadata": {},
   "outputs": [
    {
     "name": "stdout",
     "output_type": "stream",
     "text": [
      "None\n"
     ]
    }
   ],
   "source": [
    "print newStudent.name"
   ]
  },
  {
   "cell_type": "code",
   "execution_count": 13,
   "metadata": {},
   "outputs": [
    {
     "name": "stdout",
     "output_type": "stream",
     "text": [
      "Enter your name:23234\n",
      "Name contains digits. Please try again...\n",
      "Enter your name:982Jack\n",
      "Name contains digits. Please try again...\n",
      "Enter your name:Jack\n"
     ]
    }
   ],
   "source": [
    "newStudent.setName()"
   ]
  },
  {
   "cell_type": "code",
   "execution_count": 14,
   "metadata": {},
   "outputs": [
    {
     "data": {
      "text/plain": [
       "'Jack'"
      ]
     },
     "execution_count": 14,
     "metadata": {},
     "output_type": "execute_result"
    }
   ],
   "source": [
    "newStudent.name"
   ]
  },
  {
   "cell_type": "code",
   "execution_count": 16,
   "metadata": {
    "collapsed": true
   },
   "outputs": [],
   "source": [
    "import textblob"
   ]
  },
  {
   "cell_type": "code",
   "execution_count": 27,
   "metadata": {
    "collapsed": true
   },
   "outputs": [],
   "source": [
    "texts = []\n",
    "\n",
    "text1 = \"this is horrible\"\n",
    "text2 = \"this is not so bad\"\n",
    "\n",
    "texts.append(text1)\n",
    "texts.append(text2)\n",
    "\n",
    "polarities = []\n",
    "\n",
    "for text in texts:\n",
    "\n",
    "    info = textblob.TextBlob(text)\n",
    "    \n",
    "    polarities.append(info.polarity)\n",
    "    "
   ]
  },
  {
   "cell_type": "code",
   "execution_count": 28,
   "metadata": {},
   "outputs": [
    {
     "data": {
      "text/plain": [
       "[-1.0, -0.6999999999999998]"
      ]
     },
     "execution_count": 28,
     "metadata": {},
     "output_type": "execute_result"
    }
   ],
   "source": [
    "polarities"
   ]
  },
  {
   "cell_type": "code",
   "execution_count": 32,
   "metadata": {
    "collapsed": true
   },
   "outputs": [],
   "source": [
    "import matplotlib.pyplot as p"
   ]
  },
  {
   "cell_type": "code",
   "execution_count": 33,
   "metadata": {},
   "outputs": [
    {
     "data": {
      "image/png": "[encoded data removed]",
      "text/plain": [
       "<matplotlib.figure.Figure at 0x11418a550>"
      ]
     },
     "metadata": {},
     "output_type": "display_data"
    }
   ],
   "source": [
    "p.hist(polarities)\n",
    "p.show()"
   ]
  },
  {
   "cell_type": "code",
   "execution_count": 42,
   "metadata": {},
   "outputs": [
    {
     "data": {
      "image/png": "[encoded data removed]",
      "text/plain": [
       "<matplotlib.figure.Figure at 0x1151ac550>"
      ]
     },
     "metadata": {},
     "output_type": "display_data"
    }
   ],
   "source": [
    "import matplotlib.pyplot as plt\n",
    "\n",
    "x1 = [1,2,3,4,5]\n",
    "y1 = [5,10,15,20,25]\n",
    "\n",
    "x2 = [1,2,3,4,5]\n",
    "y2 = [5,10,15,10,5]\n",
    "\n",
    "plt.xlabel(\"my x value\")\n",
    "plt.ylabel(\"my y value\")\n",
    "\n",
    "plt.plot(x1,y1, 'bo', label = \"first line\")\n",
    "plt.plot(x2,y2, 'r+',label = \"second line\")\n",
    "\n",
    "plt.legend()\n",
    "\n",
    "plt.show()"
   ]
  },
  {
   "cell_type": "code",
   "execution_count": 47,
   "metadata": {},
   "outputs": [
    {
     "data": {
      "image/png": "[encoded data removed]",
      "text/plain": [
       "<matplotlib.figure.Figure at 0x11571c650>"
      ]
     },
     "metadata": {},
     "output_type": "display_data"
    }
   ],
   "source": [
    "import matplotlib.pyplot as plt\n",
    "\n",
    "x1 = [1,2,3,4,5]\n",
    "y1 = [5,10,15,20,25]\n",
    "\n",
    "x2 = [1,2,3,4,5]\n",
    "y2 = [5,10,15,10,5]\n",
    "\n",
    "plt.xlabel(\"my x value\")\n",
    "plt.ylabel(\"my y value\")\n",
    "\n",
    "plt.bar(x1,y1, label = \"first line\")\n",
    "#plt.show()\n",
    "\n",
    "plt.bar(x2,y2, label = \"second line\")\n",
    "plt.show()\n",
    "\n",
    "#plt.legend()\n",
    "\n",
    "#plt.show()"
   ]
  },
  {
   "cell_type": "markdown",
   "metadata": {},
   "source": [
    "## Plot the distribution of word lengths in Alice in Wonderland"
   ]
  },
  {
   "cell_type": "code",
   "execution_count": 75,
   "metadata": {},
   "outputs": [
    {
     "name": "stdout",
     "output_type": "stream",
     "text": [
      "﻿Project\n",
      "Length of word: 10\n",
      "0 �\n",
      "1 �\n",
      "2 �\n",
      "3 P\n",
      "4 r\n",
      "5 o\n",
      "6 j\n",
      "7 e\n",
      "8 c\n",
      "9 t\n"
     ]
    }
   ],
   "source": [
    "import urllib\n",
    "\n",
    "alice_content=urllib.urlopen(\"http://www.gutenberg.org/files/11/11-0.txt\")\n",
    "\n",
    "word_counts = {}\n",
    "word_lengths = []\n",
    "\n",
    "debug = True\n",
    "for line in alice_content:   \n",
    "    words = line.split()\n",
    "    for word in words:\n",
    "        \n",
    "        if debug == True:\n",
    "            print word\n",
    "            print \"Length of word:\",len(word)\n",
    "            for i in range(len(word)):\n",
    "                print i,word[i]\n",
    "                \n",
    "            debug = False\n",
    "            \n",
    "        length = len(word)\n",
    "        \n",
    "        word_lengths.append(length)\n",
    "        \n",
    "        if word_counts.get(length) == None:\n",
    "            word_counts[length] = 1\n",
    "        else:\n",
    "            word_counts[length] += 1     \n",
    "        "
   ]
  },
  {
   "cell_type": "code",
   "execution_count": 68,
   "metadata": {},
   "outputs": [
    {
     "name": "stdout",
     "output_type": "stream",
     "text": [
      "[1, 2, 3, 4, 5, 6, 7, 8, 9, 10, 11, 12, 13, 14, 15, 16, 17, 18, 19, 20, 21, 22, 23, 24, 29, 30, 39, 54]\n",
      "[1001, 4120, 6562, 5312, 3419, 2793, 2201, 1506, 1017, 655, 355, 259, 104, 64, 36, 24, 17, 2, 3, 1, 6, 1, 1, 1, 1, 2, 1, 1]\n"
     ]
    }
   ],
   "source": [
    "print word_counts.keys()\n",
    "print word_counts.values()"
   ]
  },
  {
   "cell_type": "code",
   "execution_count": 76,
   "metadata": {},
   "outputs": [
    {
     "name": "stdout",
     "output_type": "stream",
     "text": [
      "29465\n",
      "[10, 13, 9, 10, 2, 11, 2, 5, 7, 4]\n"
     ]
    }
   ],
   "source": [
    "print len(word_lengths)\n",
    "print word_lengths[:10]"
   ]
  },
  {
   "cell_type": "code",
   "execution_count": 63,
   "metadata": {
    "collapsed": true
   },
   "outputs": [],
   "source": [
    "keys = []\n",
    "values = []\n",
    "\n",
    "for key in word_counts:\n",
    "    keys.append(key)\n",
    "    values.append(word_counts[key])"
   ]
  },
  {
   "cell_type": "code",
   "execution_count": 64,
   "metadata": {},
   "outputs": [
    {
     "data": {
      "text/plain": [
       "([1,\n",
       "  2,\n",
       "  3,\n",
       "  4,\n",
       "  5,\n",
       "  6,\n",
       "  7,\n",
       "  8,\n",
       "  9,\n",
       "  10,\n",
       "  11,\n",
       "  12,\n",
       "  13,\n",
       "  14,\n",
       "  15,\n",
       "  16,\n",
       "  17,\n",
       "  18,\n",
       "  19,\n",
       "  20,\n",
       "  21,\n",
       "  22,\n",
       "  23,\n",
       "  24,\n",
       "  29,\n",
       "  30,\n",
       "  39,\n",
       "  54],\n",
       " [1001,\n",
       "  4120,\n",
       "  6562,\n",
       "  5312,\n",
       "  3419,\n",
       "  2793,\n",
       "  2201,\n",
       "  1506,\n",
       "  1017,\n",
       "  655,\n",
       "  355,\n",
       "  259,\n",
       "  104,\n",
       "  64,\n",
       "  36,\n",
       "  24,\n",
       "  17,\n",
       "  2,\n",
       "  3,\n",
       "  1,\n",
       "  6,\n",
       "  1,\n",
       "  1,\n",
       "  1,\n",
       "  1,\n",
       "  2,\n",
       "  1,\n",
       "  1])"
      ]
     },
     "execution_count": 64,
     "metadata": {},
     "output_type": "execute_result"
    }
   ],
   "source": [
    "keys,values"
   ]
  },
  {
   "cell_type": "code",
   "execution_count": 66,
   "metadata": {},
   "outputs": [
    {
     "data": {
      "image/png": "[encoded data removed]",
      "text/plain": [
       "<matplotlib.figure.Figure at 0x115a94490>"
      ]
     },
     "metadata": {},
     "output_type": "display_data"
    }
   ],
   "source": [
    "import matplotlib.pyplot as plt\n",
    "\n",
    "plt.title(\"Length Analysis for Alice in Wonderland\")\n",
    "plt.xlabel(\"Length\")\n",
    "plt.ylabel(\"Count\")\n",
    "\n",
    "plt.bar(keys[:20],values[:20])\n",
    "\n",
    "plt.show()"
   ]
  },
  {
   "cell_type": "code",
   "execution_count": 79,
   "metadata": {},
   "outputs": [
    {
     "data": {
      "image/png": "[encoded data removed]",
      "text/plain": [
       "<matplotlib.figure.Figure at 0x114e56850>"
      ]
     },
     "metadata": {},
     "output_type": "display_data"
    }
   ],
   "source": [
    "import matplotlib.pyplot as plt\n",
    "\n",
    "plt.title(\"Length Analysis for Alice in Wonderland\")\n",
    "\n",
    "word_lengths = filter(lambda x: x<20, word_lengths)\n",
    "plt.hist(word_lengths,bins=30)\n",
    "\n",
    "plt.show()"
   ]
  },
  {
   "cell_type": "code",
   "execution_count": 82,
   "metadata": {},
   "outputs": [
    {
     "ename": "ImportError",
     "evalue": "No module named snack",
     "output_type": "error",
     "traceback": [
      "\u001b[0;31m---------------------------------------------------------------------------\u001b[0m",
      "\u001b[0;31mImportError\u001b[0m                               Traceback (most recent call last)",
      "\u001b[0;32m<ipython-input-82-9989387bc3ad>\u001b[0m in \u001b[0;36m<module>\u001b[0;34m()\u001b[0m\n\u001b[0;32m----> 1\u001b[0;31m \u001b[0;32mimport\u001b[0m \u001b[0msnack\u001b[0m\u001b[0;34m\u001b[0m\u001b[0m\n\u001b[0m\u001b[1;32m      2\u001b[0m \u001b[0;34m\u001b[0m\u001b[0m\n\u001b[1;32m      3\u001b[0m \u001b[0ms\u001b[0m \u001b[0;34m=\u001b[0m \u001b[0msnack\u001b[0m\u001b[0;34m.\u001b[0m\u001b[0mSound\u001b[0m\u001b[0;34m(\u001b[0m\u001b[0;34m)\u001b[0m\u001b[0;34m\u001b[0m\u001b[0m\n\u001b[1;32m      4\u001b[0m \u001b[0ms\u001b[0m\u001b[0;34m.\u001b[0m\u001b[0mread\u001b[0m\u001b[0;34m(\u001b[0m\u001b[0;34m'sound.wav'\u001b[0m\u001b[0;34m)\u001b[0m\u001b[0;34m\u001b[0m\u001b[0m\n\u001b[1;32m      5\u001b[0m \u001b[0ms\u001b[0m\u001b[0;34m.\u001b[0m\u001b[0mplay\u001b[0m\u001b[0;34m(\u001b[0m\u001b[0;34m)\u001b[0m\u001b[0;34m\u001b[0m\u001b[0m\n",
      "\u001b[0;31mImportError\u001b[0m: No module named snack"
     ]
    }
   ],
   "source": [
    "import snack\n",
    "\n",
    "s = snack.Sound() \n",
    "s.read('sound.wav') \n",
    "s.play()"
   ]
  },
  {
   "cell_type": "code",
   "execution_count": 81,
   "metadata": {},
   "outputs": [
    {
     "name": "stdout",
     "output_type": "stream",
     "text": [
      "Collecting snack\n",
      "  Downloading https://files.pythonhosted.org/packages/15/52/7889541bad6bd053c6554e3158c91cf0d4092b251b34de5fa35e20040968/snack-0.0.3.tar.gz (155kB)\n",
      "\u001b[K    100% |████████████████████████████████| 163kB 912kB/s ta 0:00:01\n",
      "\u001b[?25h    Complete output from command python setup.py egg_info:\n",
      "    Traceback (most recent call last):\n",
      "      File \"<string>\", line 1, in <module>\n",
      "      File \"/private/var/folders/mv/hc6wwhyn2r38r_b1z9p2f4jmlf1hvl/T/pip-build-fdvncl6y/snack/setup.py\", line 47\n",
      "        print GCC_VERSION\n",
      "                        ^\n",
      "    SyntaxError: Missing parentheses in call to 'print'\n",
      "    \n",
      "    ----------------------------------------\n",
      "\u001b[31mCommand \"python setup.py egg_info\" failed with error code 1 in /private/var/folders/mv/hc6wwhyn2r38r_b1z9p2f4jmlf1hvl/T/pip-build-fdvncl6y/snack/\u001b[0m\n",
      "\u001b[33mYou are using pip version 9.0.1, however version 10.0.1 is available.\n",
      "You should consider upgrading via the 'pip install --upgrade pip' command.\u001b[0m\n"
     ]
    }
   ],
   "source": [
    "!pip install snack"
   ]
  },
  {
   "cell_type": "code",
   "execution_count": 84,
   "metadata": {},
   "outputs": [
    {
     "data": {
      "image/png": "[encoded data removed]",
      "text/plain": [
       "<matplotlib.figure.Figure at 0x114241ed0>"
      ]
     },
     "metadata": {},
     "output_type": "display_data"
    }
   ],
   "source": [
    "import matplotlib.pyplot as plt\n",
    "\n",
    "sales = [1000,2000,1500,200]\n",
    "regions = ['north '+str(sales[0]),'south','east','west']\n",
    "\n",
    "plt.pie(sales,labels=regions)\n",
    "\n",
    "plt.show()"
   ]
  },
  {
   "cell_type": "code",
   "execution_count": 94,
   "metadata": {},
   "outputs": [
    {
     "data": {
      "image/png": "[encoded data removed]",
      "text/plain": [
       "<matplotlib.figure.Figure at 0x114fa98d0>"
      ]
     },
     "metadata": {},
     "output_type": "display_data"
    }
   ],
   "source": [
    "import matplotlib.pyplot as plt\n",
    "\n",
    "sales = [1000,2000,1500,200]\n",
    "regions = ['north '+str(sales[0]),'south','east','west']\n",
    "\n",
    "colors = ['r','g','y','b']\n",
    "\n",
    "plt.pie(sales,\n",
    "        labels=regions,\n",
    "        colors=colors,\n",
    "        shadow=True,\n",
    "        explode=(0,0.5,0,0),\n",
    "        autopct = '%1.1f%%')\n",
    "\n",
    "plt.show()"
   ]
  },
  {
   "cell_type": "code",
   "execution_count": null,
   "metadata": {
    "collapsed": true
   },
   "outputs": [],
   "source": []
  }
 ],
 "metadata": {
  "kernelspec": {
   "display_name": "Python 2",
   "language": "python",
   "name": "python2"
  },
  "language_info": {
   "codemirror_mode": {
    "name": "ipython",
    "version": 2
   },
   "file_extension": ".py",
   "mimetype": "text/x-python",
   "name": "python",
   "nbconvert_exporter": "python",
   "pygments_lexer": "ipython2",
   "version": "2.7.14"
  }
 },
 "nbformat": 4,
 "nbformat_minor": 2
}
